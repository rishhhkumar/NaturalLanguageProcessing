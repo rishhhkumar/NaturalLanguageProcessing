{
 "cells": [
  {
   "cell_type": "code",
   "execution_count": 1,
   "id": "fe37818f",
   "metadata": {},
   "outputs": [],
   "source": [
    "import numpy as np"
   ]
  },
  {
   "cell_type": "code",
   "execution_count": 2,
   "id": "91bde254",
   "metadata": {},
   "outputs": [],
   "source": [
    "def viterbi(words, states, start_prob, trans_prob, emit_prob):\n",
    "\n",
    "    V = np.zeros((len(states), len(words)))\n",
    "    backpointer = np.zeros((len(states), len(words)), dtype=int)\n",
    "    \n",
    "    print(\"No. of Words: \", len(words))\n",
    "    print(\"No. of States: \",len(states))\n",
    "    print(emit_prob.shape)\n",
    "\n",
    "    for s in range(len(states)):\n",
    "        V[s,0] = start_prob[s] * emit_prob[s, words[0]]\n",
    "\n",
    "    for t in range(1, len(words)):\n",
    "        for s in range(len(states)):\n",
    "            prob = [V[prev_s, t-1] * trans_prob[prev_s, s] * emit_prob[s, words[t]] for prev_s in range(len(states))]\n",
    "            V[s, t] = max(prob)\n",
    "            backpointer[s, t] = np.argmax(prob)\n",
    "        print(backpointer[s, t])\n",
    "\n",
    "    best_seq = []\n",
    "    best_prob = max(V[:, -1])\n",
    "    best_pointer = np.argmax(V[:, -1])\n",
    "    best_seq.append(states[best_pointer])\n",
    "    for t in range(len(words)-1, 0, -1):\n",
    "        best_pointer = backpointer[best_pointer, t]\n",
    "        best_seq.insert(0, states[best_pointer])\n",
    "        \n",
    "    print(\"Viterbi matrix:\")\n",
    "    print(V)\n",
    "    print(\"Backpointer matrix:\")\n",
    "    print(backpointer)\n",
    "\n",
    "    return best_seq, best_prob"
   ]
  },
  {
   "cell_type": "code",
   "execution_count": 7,
   "id": "beec255d",
   "metadata": {},
   "outputs": [],
   "source": [
    "sentence = ['the', 'dog', 'barks']\n",
    "states = ['NOUN', 'VERB']\n",
    "\n",
    "start_prob = np.array([0.5, 0.5])\n",
    "trans_prob = np.array([[0.4, 0.6],\n",
    "                       [0.3, 0.7]])\n",
    "emit_prob = np.array([[0.2, 0.1, 0],\n",
    "                      [0, 0, 0.5]])"
   ]
  },
  {
   "cell_type": "code",
   "execution_count": 8,
   "id": "9fb2853b",
   "metadata": {},
   "outputs": [],
   "source": [
    "word2idx = {word: idx for idx, word in enumerate(sentence)}"
   ]
  },
  {
   "cell_type": "code",
   "execution_count": 9,
   "id": "48db4cee",
   "metadata": {},
   "outputs": [
    {
     "name": "stdout",
     "output_type": "stream",
     "text": [
      "No. of Words:  3\n",
      "No. of States:  2\n",
      "(2, 3)\n",
      "0\n",
      "0\n",
      "Viterbi matrix:\n",
      "[[0.1    0.004  0.    ]\n",
      " [0.     0.     0.0012]]\n",
      "Backpointer matrix:\n",
      "[[0 0 0]\n",
      " [0 0 0]]\n"
     ]
    }
   ],
   "source": [
    "tags, probability = viterbi([word2idx[word] for word in sentence], \n",
    "                            states, \n",
    "                            start_prob, \n",
    "                            trans_prob, \n",
    "                            emit_prob)"
   ]
  },
  {
   "cell_type": "code",
   "execution_count": 10,
   "id": "c72341ef",
   "metadata": {},
   "outputs": [
    {
     "name": "stdout",
     "output_type": "stream",
     "text": [
      "POS tags for the sentence:\n",
      "the -> NOUN\n",
      "dog -> NOUN\n",
      "barks -> VERB\n",
      "Probability: 0.0012000000000000003\n"
     ]
    }
   ],
   "source": [
    "print(\"POS tags for the sentence:\")\n",
    "for word, tag in zip(sentence, tags):\n",
    "    print(word, \"->\", tag)\n",
    "\n",
    "print(\"Probability:\", probability)"
   ]
  },
  {
   "cell_type": "code",
   "execution_count": null,
   "id": "e9b88858",
   "metadata": {},
   "outputs": [],
   "source": []
  },
  {
   "cell_type": "code",
   "execution_count": null,
   "id": "bfd337c9",
   "metadata": {},
   "outputs": [],
   "source": []
  },
  {
   "cell_type": "code",
   "execution_count": null,
   "id": "003e7c2b",
   "metadata": {},
   "outputs": [],
   "source": []
  },
  {
   "cell_type": "code",
   "execution_count": null,
   "id": "fd534ae5",
   "metadata": {},
   "outputs": [],
   "source": []
  },
  {
   "cell_type": "code",
   "execution_count": null,
   "id": "9efc1b18",
   "metadata": {},
   "outputs": [],
   "source": []
  },
  {
   "cell_type": "code",
   "execution_count": null,
   "id": "59a4bdab",
   "metadata": {},
   "outputs": [],
   "source": []
  },
  {
   "cell_type": "code",
   "execution_count": null,
   "id": "3e8c585d",
   "metadata": {},
   "outputs": [],
   "source": []
  },
  {
   "cell_type": "code",
   "execution_count": null,
   "id": "7df7a231",
   "metadata": {},
   "outputs": [],
   "source": []
  },
  {
   "cell_type": "code",
   "execution_count": null,
   "id": "247d9967",
   "metadata": {},
   "outputs": [],
   "source": []
  },
  {
   "cell_type": "code",
   "execution_count": null,
   "id": "1cae977c",
   "metadata": {},
   "outputs": [],
   "source": []
  },
  {
   "cell_type": "code",
   "execution_count": null,
   "id": "64ebdf64",
   "metadata": {},
   "outputs": [],
   "source": []
  },
  {
   "cell_type": "code",
   "execution_count": 2,
   "id": "9a881bc9",
   "metadata": {},
   "outputs": [],
   "source": [
    "# word2idx"
   ]
  },
  {
   "cell_type": "code",
   "execution_count": 3,
   "id": "017eb86b",
   "metadata": {},
   "outputs": [],
   "source": [
    "# transition_matrix = np.array([\n",
    "#     [0.4, 0.4, 0.2],\n",
    "#     [0.3, 0.3, 0.4], \n",
    "#     [0.2, 0.6, 0.2] \n",
    "# ])\n",
    "\n",
    "# emission_matrix = np.array([\n",
    "#     [0.2, 0.3, 0.1, 0.2, 0.2], \n",
    "#     [0.1, 0.1, 0.3, 0.4, 0.1], \n",
    "#     [0.3, 0.2, 0.1, 0.1, 0.3] \n",
    "# ])\n",
    "\n",
    "# start_matrix = np.array([0.4, 0.3, 0.3])"
   ]
  },
  {
   "cell_type": "code",
   "execution_count": 4,
   "id": "8a74b7a7",
   "metadata": {},
   "outputs": [],
   "source": [
    "# pos_tags"
   ]
  },
  {
   "cell_type": "code",
   "execution_count": 5,
   "id": "c45c8814",
   "metadata": {},
   "outputs": [],
   "source": [
    "# sentence = ['cat', 'is', 'on', 'the', 'mat']\n",
    "\n",
    "# pos_tags = ['NOUN', 'VERB', 'PREP']"
   ]
  },
  {
   "cell_type": "code",
   "execution_count": null,
   "id": "d03134b4",
   "metadata": {},
   "outputs": [],
   "source": []
  }
 ],
 "metadata": {
  "kernelspec": {
   "display_name": "Python 3 (ipykernel)",
   "language": "python",
   "name": "python3"
  },
  "language_info": {
   "codemirror_mode": {
    "name": "ipython",
    "version": 3
   },
   "file_extension": ".py",
   "mimetype": "text/x-python",
   "name": "python",
   "nbconvert_exporter": "python",
   "pygments_lexer": "ipython3",
   "version": "3.10.9"
  }
 },
 "nbformat": 4,
 "nbformat_minor": 5
}
