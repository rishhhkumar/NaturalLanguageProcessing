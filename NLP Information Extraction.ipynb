{
 "cells": [
  {
   "cell_type": "code",
   "execution_count": 4,
   "id": "04fee86f",
   "metadata": {},
   "outputs": [],
   "source": [
    "import spacy\n",
    "\n",
    "nlp = spacy.load(\"en_core_web_sm\")"
   ]
  },
  {
   "cell_type": "code",
   "execution_count": 5,
   "id": "97f062d7",
   "metadata": {},
   "outputs": [
    {
     "name": "stdout",
     "output_type": "stream",
     "text": [
      "Nagpur ORG\n",
      "third ORDINAL\n",
      "Indian NORP\n",
      "Maharashtra after ORG\n",
      "Mumbai GPE\n",
      "Pune GPE\n",
      "the \"Orange City\" ORG\n",
      "Nagpur PERSON\n",
      "13th ORDINAL\n",
      "India GPE\n",
      "Oxford's Economics ORG\n",
      "Nagpur PERSON\n",
      "fifth ORDINAL\n",
      "2019 DATE\n",
      "2035 DATE\n",
      "8.41% PERCENT\n",
      "one CARDINAL\n",
      "the Smart Cities ORG\n",
      "Maharashtra GPE\n",
      "ten CARDINAL\n",
      "India GPE\n",
      "Smart City Project GPE\n"
     ]
    }
   ],
   "source": [
    "text = \"\"\"\n",
    "Nagpur is the third-largest city of the Indian state of Maharashtra after Mumbai and Pune. Known as the \"Orange City\", Nagpur is the 13th largest city in India by population. According to an Oxford's Economics report, Nagpur is projected to be the fifth fastest growing city in the world from 2019 to 2035 with an average growth of 8.41%. It has been proposed as one of the Smart Cities in Maharashtra and is one of the top ten cities in India in Smart City Project execution.\n",
    "\"\"\"\n",
    "\n",
    "doc = nlp(text)\n",
    "\n",
    "for ent in doc.ents:\n",
    "    print(ent.text, ent.label_)"
   ]
  },
  {
   "cell_type": "code",
   "execution_count": 6,
   "id": "d93ccd48",
   "metadata": {},
   "outputs": [],
   "source": [
    "area_rank_maharashtra = \"\"\n",
    "area_rank_india = \"\"\n",
    "future_growth = \"\""
   ]
  },
  {
   "cell_type": "code",
   "execution_count": 8,
   "id": "95d3c52e",
   "metadata": {},
   "outputs": [],
   "source": [
    "for ent in doc.ents:\n",
    "    if ent.label_ == \"ORDINAL\" and \"Maharashtra\" in ent.sent.text:\n",
    "        area_rank_maharashtra = ent.text\n",
    "    elif ent.label_ == \"ORDINAL\" and \"India\" in ent.sent.text:\n",
    "        area_rank_india = ent.text\n",
    "    elif ent.label_ == \"ORDINAL\" and \"Oxford's Economics\" in ent.sent.text:\n",
    "        future_growth = ent.text "
   ]
  },
  {
   "cell_type": "code",
   "execution_count": 9,
   "id": "6e49036a",
   "metadata": {},
   "outputs": [
    {
     "name": "stdout",
     "output_type": "stream",
     "text": [
      "\n",
      "Extracted Information:\n",
      "Area wise ranking of Nagpur in Maharashtra: third\n",
      "Area wise ranking of Nagpur in India: 13th\n",
      "Future economic growth of Nagpur: fifth\n"
     ]
    }
   ],
   "source": [
    "print(\"\\nExtracted Information:\")\n",
    "print(f\"Area wise ranking of Nagpur in Maharashtra: {area_rank_maharashtra}\")\n",
    "print(f\"Area wise ranking of Nagpur in India: {area_rank_india}\")\n",
    "print(f\"Future economic growth of Nagpur: {future_growth}\")"
   ]
  },
  {
   "cell_type": "code",
   "execution_count": null,
   "id": "cb36b3f7",
   "metadata": {},
   "outputs": [],
   "source": []
  },
  {
   "cell_type": "code",
   "execution_count": null,
   "id": "4a733bff",
   "metadata": {},
   "outputs": [],
   "source": []
  },
  {
   "cell_type": "code",
   "execution_count": 10,
   "id": "4ee59a94",
   "metadata": {},
   "outputs": [],
   "source": [
    "text = \"\"\"\n",
    "Maharashtra has a Gross State Domestic Product (GSDP) of approximately USD 435 billion (2022-23), which makes it the largest economy in India. Maharashtra's contribution to India's growth is significant. The state accounts for 12.92% of India's GDP and has a per capita income that is higher than the national average.\n",
    "\"\"\"\n",
    "\n",
    "doc = nlp(text)"
   ]
  },
  {
   "cell_type": "code",
   "execution_count": 11,
   "id": "567e3095",
   "metadata": {},
   "outputs": [
    {
     "name": "stdout",
     "output_type": "stream",
     "text": [
      "Maharashtra ORG\n",
      "approximately USD 435 billion MONEY\n",
      "2022-23 DATE\n",
      "India GPE\n",
      "Maharashtra ORG\n",
      "India GPE\n",
      "12.92% PERCENT\n",
      "India GPE\n"
     ]
    }
   ],
   "source": [
    "for ent in doc.ents:\n",
    "    print(ent.text, ent.label_)\n",
    "\n",
    "contribution = \"\"\n",
    "gsdp_value = \"\""
   ]
  },
  {
   "cell_type": "code",
   "execution_count": 12,
   "id": "3bda3b98",
   "metadata": {},
   "outputs": [],
   "source": [
    "for ent in doc.ents:\n",
    "    if ent.label_ == \"PERCENT\" and \"GDP\" in ent.sent.text:\n",
    "        contribution = ent.text\n",
    "    elif ent.label_ == \"MONEY\" and \"GSDP\" in ent.sent.text:\n",
    "        gsdp_value = ent.text"
   ]
  },
  {
   "cell_type": "code",
   "execution_count": 13,
   "id": "f9e0dd21",
   "metadata": {},
   "outputs": [
    {
     "name": "stdout",
     "output_type": "stream",
     "text": [
      "\n",
      "Extracted Information:\n",
      "Contribution of Maharashtra in India’s economy: 12.92%\n",
      "Maharashtra GSDP for 2022-23: approximately USD 435 billion\n"
     ]
    }
   ],
   "source": [
    "print(\"\\nExtracted Information:\")\n",
    "print(f\"Contribution of Maharashtra in India’s economy: {contribution}\")\n",
    "print(f\"Maharashtra GSDP for 2022-23: {gsdp_value}\")"
   ]
  },
  {
   "cell_type": "code",
   "execution_count": null,
   "id": "162cb3ef",
   "metadata": {},
   "outputs": [],
   "source": []
  }
 ],
 "metadata": {
  "kernelspec": {
   "display_name": "Python 3 (ipykernel)",
   "language": "python",
   "name": "python3"
  },
  "language_info": {
   "codemirror_mode": {
    "name": "ipython",
    "version": 3
   },
   "file_extension": ".py",
   "mimetype": "text/x-python",
   "name": "python",
   "nbconvert_exporter": "python",
   "pygments_lexer": "ipython3",
   "version": "3.10.9"
  }
 },
 "nbformat": 4,
 "nbformat_minor": 5
}
